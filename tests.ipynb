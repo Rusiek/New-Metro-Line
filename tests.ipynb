{
 "cells": [
  {
   "cell_type": "code",
   "execution_count": 5,
   "metadata": {},
   "outputs": [],
   "source": [
    "import time\n",
    "import os\n",
    "from algorithms.example import BeesAlgo, CSOAlgo, GeneticAlgo\n",
    "from benchmark.evaluate import Evaluate\n",
    "from loader import load_graph, load_constraints, load_metro_params, load_generator_data\n",
    "from generator.generator import ClustersGridGenerator\n",
    "import tqdm"
   ]
  },
  {
   "cell_type": "code",
   "execution_count": 2,
   "metadata": {},
   "outputs": [
    {
     "name": "stdout",
     "output_type": "stream",
     "text": [
      "['/home/piotr/stdia/BO_SEM6/New-Metro-Line/benchmark/test/ClustersGridGenerator_tmp_0_30.json', '/home/piotr/stdia/BO_SEM6/New-Metro-Line/benchmark/test/ClustersGridGenerator_tmp_0_40.json', '/home/piotr/stdia/BO_SEM6/New-Metro-Line/benchmark/test/ClustersGridGenerator_tmp_0_50.json', '/home/piotr/stdia/BO_SEM6/New-Metro-Line/benchmark/test/ClustersGridGenerator_tmp_0_60.json', '/home/piotr/stdia/BO_SEM6/New-Metro-Line/benchmark/test/ClustersGridGenerator_tmp_0_70.json']\n"
     ]
    },
    {
     "data": {
      "text/plain": [
       "<Figure size 640x480 with 0 Axes>"
      ]
     },
     "metadata": {},
     "output_type": "display_data"
    }
   ],
   "source": [
    "cg = ClustersGridGenerator(path=os.path.abspath(\"benchmark/test\"))\n",
    "flist = cg.generate_batch(\"tmp\", [30, 40, 50, 60, 70], [{'s': 300, 'p': 0.9}])\n",
    "print(flist)"
   ]
  },
  {
   "cell_type": "code",
   "execution_count": 6,
   "metadata": {},
   "outputs": [],
   "source": [
    "def calc(dset, algo_cls, algo_params, iters):\n",
    "    print(f\"Handling dataset: {dset}\")\n",
    "    dataset = dset\n",
    "    G = load_graph(dataset)\n",
    "    metro_params = load_metro_params(dataset)\n",
    "    max_cost = load_constraints(dataset)\n",
    "    min_w, max_w = load_generator_data(dataset)\n",
    "    worker = Evaluate(G, metro_params, max_cost)\n",
    "\n",
    "    vis_path = dset.split('.')[0]\n",
    "    try:\n",
    "        os.mkdir(vis_path)\n",
    "    except FileExistsError:\n",
    "        pass\n",
    "\n",
    "    vis_path += '/vis/'\n",
    "    try:\n",
    "        os.mkdir(vis_path)\n",
    "    except FileExistsError:\n",
    "        pass\n",
    "\n",
    "    sol_path = dset.split('.')[0]\n",
    "    try:\n",
    "        os.mkdir(sol_path)\n",
    "    except FileExistsError:\n",
    "        pass\n",
    "\n",
    "    sol_path += '/sol/'\n",
    "    try:\n",
    "        os.mkdir(sol_path)\n",
    "    except FileExistsError:\n",
    "        pass\n",
    "\n",
    "    gif_path = dset.split('.')[0] + '/solution.gif'\n",
    "    algo_params.update({'min_w': min_w, 'max_w': max_w})\n",
    "    \n",
    "    algo = algo_cls(G, metro_params, algo_params, max_cost=max_cost, vis_path=vis_path, sol_path=sol_path, gif_path=gif_path)\n",
    "    start = time.time()\n",
    "    algo.run(iterations=iters, visualize=True, save_best=True, generate_gif=True, verbose=0)\n",
    "    end = time.time()\n",
    "    algo_time = end - start\n",
    "    solution = algo.best_solution\n",
    "    output = worker.evaluate(solution)\n",
    "    output['dataset'] = dset\n",
    "    output['algo'] = algo_cls.__name__\n",
    "    output['time'] = algo_time\n",
    "    print(dset, algo_cls.__name__, algo_time)\n",
    "    return output"
   ]
  },
  {
   "cell_type": "code",
   "execution_count": 9,
   "metadata": {},
   "outputs": [
    {
     "name": "stderr",
     "output_type": "stream",
     "text": [
      "  0%|          | 0/5 [00:00<?, ?it/s]"
     ]
    },
    {
     "name": "stdout",
     "output_type": "stream",
     "text": [
      "Handling dataset: /home/piotr/stdia/BO_SEM6/New-Metro-Line/benchmark/test/ClustersGridGenerator_tmp_0_30.json\n"
     ]
    },
    {
     "name": "stderr",
     "output_type": "stream",
     "text": [
      " 15%|█▌        | 15/100 [00:10<00:59,  1.43it/s]\n"
     ]
    },
    {
     "name": "stdout",
     "output_type": "stream",
     "text": [
      "/home/piotr/stdia/BO_SEM6/New-Metro-Line/benchmark/test/ClustersGridGenerator_tmp_0_30.json BeesAlgo 11.287946224212646\n",
      "Handling dataset: /home/piotr/stdia/BO_SEM6/New-Metro-Line/benchmark/test/ClustersGridGenerator_tmp_0_30.json\n"
     ]
    },
    {
     "name": "stderr",
     "output_type": "stream",
     "text": [
      " 60%|██████    | 30/50 [00:24<00:16,  1.23it/s]\n"
     ]
    },
    {
     "name": "stdout",
     "output_type": "stream",
     "text": [
      "/home/piotr/stdia/BO_SEM6/New-Metro-Line/benchmark/test/ClustersGridGenerator_tmp_0_30.json GeneticAlgo 25.2965247631073\n",
      "Handling dataset: /home/piotr/stdia/BO_SEM6/New-Metro-Line/benchmark/test/ClustersGridGenerator_tmp_0_30.json\n"
     ]
    },
    {
     "name": "stderr",
     "output_type": "stream",
     "text": [
      "100%|██████████| 12/12 [00:14<00:00,  1.20s/it]\n",
      " 20%|██        | 1/5 [00:52<03:28, 52.09s/it]"
     ]
    },
    {
     "name": "stdout",
     "output_type": "stream",
     "text": [
      "/home/piotr/stdia/BO_SEM6/New-Metro-Line/benchmark/test/ClustersGridGenerator_tmp_0_30.json CSOAlgo 15.43235993385315\n",
      "Handling dataset: /home/piotr/stdia/BO_SEM6/New-Metro-Line/benchmark/test/ClustersGridGenerator_tmp_0_40.json\n"
     ]
    },
    {
     "name": "stderr",
     "output_type": "stream",
     "text": [
      " 16%|█▌        | 16/100 [00:15<01:19,  1.06it/s]\n"
     ]
    },
    {
     "name": "stdout",
     "output_type": "stream",
     "text": [
      "/home/piotr/stdia/BO_SEM6/New-Metro-Line/benchmark/test/ClustersGridGenerator_tmp_0_40.json BeesAlgo 15.756276369094849\n",
      "Handling dataset: /home/piotr/stdia/BO_SEM6/New-Metro-Line/benchmark/test/ClustersGridGenerator_tmp_0_40.json\n"
     ]
    },
    {
     "name": "stderr",
     "output_type": "stream",
     "text": [
      " 48%|████▊     | 24/50 [00:24<00:26,  1.01s/it]\n"
     ]
    },
    {
     "name": "stdout",
     "output_type": "stream",
     "text": [
      "/home/piotr/stdia/BO_SEM6/New-Metro-Line/benchmark/test/ClustersGridGenerator_tmp_0_40.json GeneticAlgo 25.08742666244507\n",
      "Handling dataset: /home/piotr/stdia/BO_SEM6/New-Metro-Line/benchmark/test/ClustersGridGenerator_tmp_0_40.json\n"
     ]
    },
    {
     "name": "stderr",
     "output_type": "stream",
     "text": [
      "100%|██████████| 12/12 [00:21<00:00,  1.79s/it]\n",
      " 40%|████      | 2/5 [01:55<02:56, 58.71s/it]"
     ]
    },
    {
     "name": "stdout",
     "output_type": "stream",
     "text": [
      "/home/piotr/stdia/BO_SEM6/New-Metro-Line/benchmark/test/ClustersGridGenerator_tmp_0_40.json CSOAlgo 22.339855909347534\n",
      "Handling dataset: /home/piotr/stdia/BO_SEM6/New-Metro-Line/benchmark/test/ClustersGridGenerator_tmp_0_50.json\n"
     ]
    },
    {
     "name": "stderr",
     "output_type": "stream",
     "text": [
      " 14%|█▍        | 14/100 [00:18<01:55,  1.35s/it]\n"
     ]
    },
    {
     "name": "stdout",
     "output_type": "stream",
     "text": [
      "/home/piotr/stdia/BO_SEM6/New-Metro-Line/benchmark/test/ClustersGridGenerator_tmp_0_50.json BeesAlgo 19.46861457824707\n",
      "Handling dataset: /home/piotr/stdia/BO_SEM6/New-Metro-Line/benchmark/test/ClustersGridGenerator_tmp_0_50.json\n"
     ]
    },
    {
     "name": "stderr",
     "output_type": "stream",
     "text": [
      " 56%|█████▌    | 28/50 [00:40<00:32,  1.46s/it]\n"
     ]
    },
    {
     "name": "stdout",
     "output_type": "stream",
     "text": [
      "/home/piotr/stdia/BO_SEM6/New-Metro-Line/benchmark/test/ClustersGridGenerator_tmp_0_50.json GeneticAlgo 41.789780378341675\n",
      "Handling dataset: /home/piotr/stdia/BO_SEM6/New-Metro-Line/benchmark/test/ClustersGridGenerator_tmp_0_50.json\n"
     ]
    },
    {
     "name": "stderr",
     "output_type": "stream",
     "text": [
      "100%|██████████| 12/12 [00:28<00:00,  2.37s/it]\n",
      " 60%|██████    | 3/5 [03:26<02:26, 73.44s/it]"
     ]
    },
    {
     "name": "stdout",
     "output_type": "stream",
     "text": [
      "/home/piotr/stdia/BO_SEM6/New-Metro-Line/benchmark/test/ClustersGridGenerator_tmp_0_50.json CSOAlgo 29.42707371711731\n",
      "Handling dataset: /home/piotr/stdia/BO_SEM6/New-Metro-Line/benchmark/test/ClustersGridGenerator_tmp_0_60.json\n"
     ]
    },
    {
     "name": "stderr",
     "output_type": "stream",
     "text": []
    }
   ],
   "source": [
    "data = []\n",
    "\n",
    "for f in tqdm.tqdm(flist):\n",
    "    data.append(calc(f, BeesAlgo, {'num_initial_candidates': 100, 'num_new_candidates': 1000, 'randomness_factor': 1}, 100))\n",
    "    data.append(calc(f, GeneticAlgo, {'num_initial_candidates': 200, 'num_new_candidates': 200, 'stagnation_limit': 4, 'elite_fraction': 0.2, 'mutation_rate': 0.25}, 50))\n",
    "    data.append(calc(f, CSOAlgo, {'num_initial_candidates': 100, 'num_new_candidates': 1000, 'randomness_factor': 1, 'visual_range': 2, 'inertia_coefficient': 2, 'step': 1}, 12))"
   ]
  }
 ],
 "metadata": {
  "kernelspec": {
   "display_name": ".venv",
   "language": "python",
   "name": "python3"
  },
  "language_info": {
   "codemirror_mode": {
    "name": "ipython",
    "version": 3
   },
   "file_extension": ".py",
   "mimetype": "text/x-python",
   "name": "python",
   "nbconvert_exporter": "python",
   "pygments_lexer": "ipython3",
   "version": "3.10.13"
  }
 },
 "nbformat": 4,
 "nbformat_minor": 2
}
